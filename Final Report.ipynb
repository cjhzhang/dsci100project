{
 "cells": [
  {
   "cell_type": "markdown",
   "id": "5a777e79-c2a3-4cc0-b993-6082ff1edd8a",
   "metadata": {},
   "source": [
    "## Final Report \n",
    "\n",
    "### Introduction\n",
    "A research group in CS at UBC is running a Minecraft server called Plaicraft to learn about video game players’ habits. Minecraft is a popular survival and building game that can be played alone or with others. A Minecraft server is a place where players can play the game together. Plaicraft (UBC CS’ server) is free to play, but Minecraft (the game) costs money, and using the Plaicraft server for research means it's much more resource-intensive than a normal Minecraft server. So, it will be very helpful to know when resources are needed. \n",
    "\n",
    "#### Question\n",
    "The question we are answering is: When do the most players tend to play? \n",
    "We will answer this question in two steps. First, we will find out how activity varies throughout the hours of the day. Second, we will find out if weekday and weekend activity levels differ.\n",
    "\n",
    "#### Dataset Description \n",
    "We used sessions.csv to answer our question \n",
    "sessions.csv is data collected through the server, it has 1535 observations and 5 variables, which are:\n",
    "- hashedemail, an anonymized email of the player,\n",
    "- start time, the date and time of when the session started as an object,\n",
    "- end time, the date and time of when the session ended as an object,\n",
    "- original start time, a float representing the start time in UNIX time, as in seconds since 1/1/1970,\n",
    "- original end time, the same format as original start time, but for end time.\n",
    "\n",
    "### Methods and Results\n",
    "Our plan is to use KNN regression to determine how many players will be online at a given time on a given day. Our response variable is the number of concurrent players, and our predictor variable is the hour of the day. To account for outliers, we will find the maximum concurrent sessions for each day of the week.\n",
    "\n",
    "Given the qualitative nature of the day of the week variable, we will perform two analyses. One analysis will not account for the day of week, and the second analysis will be a comparison between two analyses of weekday sessions and weekend sessions. \n",
    "\n",
    "Before we started our analysis, we created some exploratory visualizations to give us a better understanding of the data. We looked at total sessions by hour, total active sessions by day, and total active sessions by hour by day.\n",
    "\n",
    "#### Wrangling Data: \n",
    "We will convert the start and end times to datetime format. From the orignal_start_time and original_end_time columns, we can tell that these times are in GMT. Because we are in PST, and we are assuming most players are playing in PST, we will convert all the timestamps to PST. Then, we will find the day of week of each session. Finally, we will find out the amount of concurrent players for each hour of each day of the week with a date range and a for loop for each hour to determine how many sessions' start times are before the hour and end times are after the hour. At the wrangling stage, we will create three frames: one with all the data, one with only weekday sessions data, and one with only weekend sessions data. \n",
    "\n",
    "The dataframe with all the sessions, named concurrent_sessions, has the following columns:\n",
    "- time, as a datetime timestamp\n",
    "- active_sessions, an integer of how many active sessions there are\n",
    "- day_of_week, which day of the week the observation took place\n",
    "- hour, the hour of the day the observation took place\n",
    "\n",
    "The other two dataframes, our weekday_sessions and weekend_sessions have the same columns as concurrent_sessions, with the addition of the day_or_end column, which is a string representation of whether the observation is a weekday or weekend.\n",
    "\n",
    "#### Analysis\n",
    "\n",
    "For each iteration of our analysis, we created a new model to make sure the results are accurate to the specific data. For our models, we first split our data into training and testing sets so we can evaluate our model's efficacy. We created a pipeline to scale the data and apply the KNN regression model. Then, we trained our model on the training set, tuned it using 5 fold cross-validation to find the best k, and then tested it on the testing set. We are satisfied with our models, their RMSPE were all under 1, which is good because we are dealing with active sessions in units of one active session. Then, we made predictions for each of our three datasets. \n",
    "\n",
    "#### Results\n",
    "\n",
    "We first created a chart to show the maximum concurrent sessions recorded for each day of the week. Even though these numbers are very different from the rest of our predictions, we think it's important for the Plaicraft team to know about outlier scenarios to ensure they can support the activity level. \n",
    "\n",
    "We presented our regression results in the form of a layered chart. The first layer is a scatterplot of the active sessions by hour, with the size of the points representing how common that level of activity is. It's more informative to see where the points vary in size, because our observations about active sessions heavily overlap. The second layer is a line of our predicted number of active sessions. \n",
    "\n",
    "For our weekday and weekend comparisons, we first concatenated the two dataframes. Then, we visualized them in the same way as our general predictions, but faceted them by weekday and weekend. \n",
    "\n",
    "However, we noticed that the size of points between the scatterplots was different, because there are fewer weekend days than weekday days, hence, there were fewer observations on weekends. So, we created bar charts comparing predicted and recorded weekday and weekend average activity levels to understand the results better. \n",
    "\n",
    "\n",
    "### Conclusion and Discussion\n",
    "\n",
    "#### Findings \n",
    "We found that: \n",
    "- Most active sessions take place in the afternoons and evenings, fewer take place during typical work or school hours, and even fewer take place late at night. \n",
    "- During the day, weekend sessions are more popular. During the evening, weekday sessions are more popular. \n",
    "- The maximum number of concurrent sessions was 7, and it occurred on a Saturday.\n",
    "\n",
    "#### Our expectations \n",
    "Before conducting our analysis, we predicted that:\n",
    "- most sessions would take place in the afternoons and evenings when most people have free time\n",
    "- there would be fewer sessions at night when most people sleep, and during normal work and school hours\n",
    "- there would be more activity on the weekends because less people have school and work. \n",
    "\n",
    "Our conclusions are mostly consistent with our predictions, but we were surprised to find the differences between weekdays and weekends when it comes to the most popular time of day. \n",
    "\n",
    "#### Impact \n",
    "Knowing when most players are online can help the Plaicraft organizers manage their licences. These findings can tell them when they will need the most licenses, and how many licenses they expect to use. \n",
    "\n",
    "#### Potential Issues \n",
    "We're hesitant to say our findings are impactful due to how small the project is, how small dataset is, and the potentially biased way it was collected. \n",
    "\n",
    "If we are looking for information specifically about the Plaicraft server for the next few months, our results are okay. However, if we are looking for information about video game habits in general, our results are not very impactful. \n",
    "\n",
    "There were usually very few active sessions at any given time. The dataset only has 1535 observations, and they were collected in the span of only five months, from April to September of 2024. Additionally, the player demographics and activity are not representative of video games in general. Seeing as the DSCI100 students' grades are affected by their playtime, we are highly incentivized to play on the server. So, their behaviour is not representative of average video game players. There might be players who otherwise would not play, people \"cramming\" their playtime requirement as they would an assignment, or people who play exactly three hours to fulfill the requirement. Since some data comes from people treating Plaicraft like an assignment, the results drawn from this data set may not apply to actual habits of people playing games for leisure. \n",
    "\n",
    "#### Future Questions\n",
    "Some other questions that can help us learn about player habits and the Plaicraft server: \n",
    "- Is the activity increasing over time?\n",
    "- Are there differences in activity during school breaks, such as reading breaks, winter holidays, and the summer months?\n",
    "- Are there differences in activity on major holidays such as Christmas and Thanksgiving? \n",
    "- Do player demographics, such as age, affect when players are active?\n",
    "- Does the length of a session vary depending on the time of day, day of the week, or player demographics?\n"
   ]
  },
  {
   "cell_type": "code",
   "execution_count": null,
   "id": "072cfbd1-6d5c-4567-839f-07cc60fb4220",
   "metadata": {},
   "outputs": [],
   "source": [
    "import altair as alt\n",
    "import numpy as np\n",
    "import pandas as pd\n",
    "from sklearn import set_config\n",
    "from sklearn.model_selection import GridSearchCV, cross_validate, train_test_split\n",
    "from sklearn.neighbors import KNeighborsRegressor\n",
    "from sklearn.pipeline import make_pipeline\n",
    "from sklearn.preprocessing import StandardScaler\n",
    "from sklearn.metrics import mean_squared_error\n",
    "import pytz"
   ]
  },
  {
   "cell_type": "code",
   "execution_count": null,
   "id": "c94f4ae1-e69a-40f5-a88f-e89058f9e4bd",
   "metadata": {},
   "outputs": [],
   "source": [
    "#loading data and converting sessions start and end times to datetime format \n",
    "sessions = pd.read_csv('sessions.csv')\n",
    "sessions['start_time'] = pd.to_datetime(sessions['start_time'], format='%d/%m/%Y %H:%M')\n",
    "sessions['end_time'] = pd.to_datetime(sessions['end_time'], format='%d/%m/%Y %H:%M')"
   ]
  },
  {
   "cell_type": "code",
   "execution_count": null,
   "id": "fa45a749-a631-4cb4-82a8-983902536099",
   "metadata": {},
   "outputs": [],
   "source": [
    "gmt = pytz.timezone('GMT')\n",
    "pst = pytz.timezone('US/Pacific')\n",
    "\n",
    "sessions['start_time'] = sessions['start_time'].dt.tz_localize(gmt).dt.tz_convert(pst)\n",
    "sessions['end_time'] = sessions['end_time'].dt.tz_localize(gmt).dt.tz_convert(pst)\n",
    "\n",
    "sessions"
   ]
  },
  {
   "cell_type": "markdown",
   "id": "121b990e-aa20-4adc-8dd9-1973d648eb84",
   "metadata": {},
   "source": [
    "## Exploratory visualizations to help us understand the data before analysis:"
   ]
  },
  {
   "cell_type": "code",
   "execution_count": null,
   "id": "2924204c-c630-4ce9-8333-63d8116ab97c",
   "metadata": {},
   "outputs": [],
   "source": [
    "#chart to show concurrent sessions by hour\n",
    "total_sessions_chart = alt.Chart(concurrent_sessions, title = 'Total Active Sessions by Hour').mark_bar().encode(\n",
    "    x = alt.X('hour:O').title('Hour of Day'),\n",
    "    y = alt.Y('active_sessions').title('Total Active Sessions')\n",
    ")\n",
    "\n",
    "total_sessions_chart"
   ]
  },
  {
   "cell_type": "code",
   "execution_count": null,
   "id": "06f0d858-52ec-4dab-90a0-c5da48a9d73e",
   "metadata": {},
   "outputs": [],
   "source": [
    "dayofweek_exploratory_plot = alt.Chart(concurrent_sessions, title = 'Total Sessions by Day of Week').mark_bar().encode(\n",
    "    x = alt.X('day_of_week', \n",
    "              sort = ['Sunday', 'Monday', 'Tuesday', 'Wednesday', 'Thursday', 'Friday', 'Saturday'], \n",
    "              axis=alt.Axis(labelAngle=-45))\n",
    "    .title(\"Day of Week\"),\n",
    "    y = alt.Y ('active_sessions').title('Total Sessions')\n",
    ")\n",
    "dayofweek_exploratory_plot"
   ]
  },
  {
   "cell_type": "code",
   "execution_count": null,
   "id": "6af062a2-a1f3-4017-9081-3e9e154c6c1a",
   "metadata": {},
   "outputs": [],
   "source": [
    "#charts to show concurrent sessions by hour and day of week\n",
    "total_sessions_dayofweek = alt.Chart(concurrent_sessions, title = 'Total Active Sessions by Hour by Day').mark_bar().encode(\n",
    "    x = alt.X('hour:O').title('Hour of Day'),\n",
    "    y = alt.Y('active_sessions').title('Total Active sessions')\n",
    ").facet(\n",
    "    row=alt.Row('day_of_week:N', title='Day of the Week', sort=[\n",
    "        'Monday', 'Tuesday', 'Wednesday', 'Thursday', 'Friday', 'Saturday', 'Sunday'\n",
    "    ]))\n",
    "total_sessions_dayofweek"
   ]
  },
  {
   "cell_type": "markdown",
   "id": "cd853f33-ba23-45e4-8471-f7fee3273776",
   "metadata": {},
   "source": [
    "## Our analysis:"
   ]
  },
  {
   "cell_type": "code",
   "execution_count": null,
   "id": "bda95ca5-005e-4265-9794-9c5a01d28877",
   "metadata": {},
   "outputs": [],
   "source": [
    "#creating a range \n",
    "hours = pd.date_range(start=sessions['start_time'].min().floor('h'), \n",
    "                      end=sessions['end_time'].max().ceil('h'), freq='h')\n",
    "\n",
    "concurrent_sessions = []\n",
    "\n",
    "#a loop that determines how many sessions start before the hour and end after the hour\n",
    "for h in hours:\n",
    "    active_players = ((sessions['start_time'] <= h) & (sessions['end_time'] >= h)).sum()\n",
    "    concurrent_sessions.append({'time': h, 'active_sessions': active_players})\n",
    "\n",
    "\n",
    "concurrent_sessions = pd.DataFrame(concurrent_sessions)\n",
    "concurrent_sessions = concurrent_sessions.assign(day_of_week = concurrent_sessions['time'].dt.day_name(), hour = concurrent_sessions['time'].dt.hour.astype(int))\n",
    "\n",
    "concurrent_sessions"
   ]
  },
  {
   "cell_type": "code",
   "execution_count": null,
   "id": "4764cc3c-e345-4ca6-8d88-cdb517707f9f",
   "metadata": {},
   "outputs": [],
   "source": [
    "weekday_sessions = concurrent_sessions[(\n",
    "    concurrent_sessions['day_of_week']=='Monday')\n",
    "|(concurrent_sessions['day_of_week']=='Tuesday')\n",
    "|(concurrent_sessions['day_of_week']=='Wednesday')\n",
    "|(concurrent_sessions['day_of_week']=='Thursday')\n",
    "|(concurrent_sessions['day_of_week']=='Friday')\n",
    "]\n",
    "weekday_sessions = weekday_sessions.assign(day_or_end = 'weekday')\n",
    "\n",
    "weekend_sessions = concurrent_sessions[(\n",
    "    concurrent_sessions['day_of_week']=='Saturday')\n",
    "|(concurrent_sessions['day_of_week']=='Sunday')]\n",
    "\n",
    "weekend_sessions = weekend_sessions.assign(day_or_end = 'weekend')"
   ]
  },
  {
   "cell_type": "markdown",
   "id": "2ca57c2b-a7c0-4af9-a65c-e7c9fe249bef",
   "metadata": {},
   "source": [
    "### Analysis by hour, regardless of day of week"
   ]
  },
  {
   "cell_type": "code",
   "execution_count": null,
   "id": "4e57e3a0-cd1e-4248-a0ac-6eae4dd875d0",
   "metadata": {},
   "outputs": [],
   "source": [
    "##train test split \n",
    "sessions_train, sessions_test = train_test_split(\n",
    "    concurrent_sessions,\n",
    "    test_size=0.25,\n",
    "    random_state=2000,  # Do not change the random_state\n",
    ")\n",
    "X_train = sessions_train[['hour']]  # A single column data frame\n",
    "y_train = sessions_train['active_sessions']  # A series\n",
    "\n",
    "X_test = sessions_test[['hour']]  # A single column data frame\n",
    "y_test = sessions_test['active_sessions']  # A series"
   ]
  },
  {
   "cell_type": "code",
   "execution_count": null,
   "id": "bfba628f-4499-41c7-ab78-9f308c1be8de",
   "metadata": {},
   "outputs": [],
   "source": [
    "#pipeline and tuning\n",
    "sessions_pipe = make_pipeline(StandardScaler(), KNeighborsRegressor())\n",
    "\n",
    "param_grid = {\n",
    "    \"kneighborsregressor__n_neighbors\": range(1, 50, 1),\n",
    "}\n",
    "\n",
    "sessions_tuned = GridSearchCV(sessions_pipe, param_grid, cv=5, n_jobs=-1, scoring='neg_root_mean_squared_error')\n",
    "sessions_results = pd.DataFrame(sessions_tuned.fit(X_train, y_train).cv_results_) \n",
    "\n",
    "sessions_tuned.fit(\n",
    "    sessions_train[['hour']],  # A single-column data frame\n",
    "    sessions_train['active_sessions']  # A series\n",
    ")"
   ]
  },
  {
   "cell_type": "code",
   "execution_count": null,
   "id": "4529b5f7-dd17-4663-a6ad-bf319142239d",
   "metadata": {},
   "outputs": [],
   "source": [
    "sessions_tuned.best_params_"
   ]
  },
  {
   "cell_type": "code",
   "execution_count": null,
   "id": "c00c933d-5c95-45be-8c03-75c360c40253",
   "metadata": {},
   "outputs": [],
   "source": [
    "sessions_best_RMSPE = -sessions_tuned.best_score_\n",
    "sessions_best_RMSPE"
   ]
  },
  {
   "cell_type": "markdown",
   "id": "90450b17-4ec0-470c-8784-37494fca8d21",
   "metadata": {},
   "source": [
    "### The RMSPE is not too different between the training and testing sets, and it is not bad considering we are working in units of individual licenses. "
   ]
  },
  {
   "cell_type": "code",
   "execution_count": null,
   "id": "19547546-9cd5-4fb6-9013-2b21df32c1cd",
   "metadata": {},
   "outputs": [],
   "source": [
    "sessions_test[\"predicted\"] = sessions_tuned.predict(sessions_test)\n",
    "RMSPE = mean_squared_error(\n",
    "    y_true=sessions_test[\"active_sessions\"],\n",
    "    y_pred=sessions_test[\"predicted\"]\n",
    ")**(1/2)\n",
    "RMSPE"
   ]
  },
  {
   "cell_type": "code",
   "execution_count": null,
   "id": "9f62745a-6e51-4998-89e6-761907a6d0b6",
   "metadata": {},
   "outputs": [],
   "source": [
    "sessions_prediction = sessions_tuned.predict(X_test)\n",
    "sessions_summary = mean_squared_error(sessions_test['hour'], sessions_prediction)**(1/2)\n",
    "\n",
    "sessions_preds = sessions_train.assign(\n",
    "    predictions = sessions_tuned.predict(sessions_train[['hour']])\n",
    ")\n",
    "sessions_preds"
   ]
  },
  {
   "cell_type": "markdown",
   "id": "ad6c8f13-8566-40a2-a613-bdadc08cea38",
   "metadata": {},
   "source": [
    "### Analysis by hour, seperating between weekdays and weekends"
   ]
  },
  {
   "cell_type": "code",
   "execution_count": null,
   "id": "7e38b8de-a6cd-4db9-8861-34076b35fe1d",
   "metadata": {},
   "outputs": [],
   "source": [
    "#weekdays\n",
    "weekday_sessions_train, weekday_sessions_test = train_test_split(\n",
    "    weekday_sessions,\n",
    "    test_size=0.25,\n",
    "    random_state=2000,  # Do not change the random_state\n",
    ")\n",
    "weekday_X_train = weekday_sessions_train[['hour']]  # A single column data frame\n",
    "weekday_y_train = weekday_sessions_train['active_sessions']  # A series\n",
    "\n",
    "weekday_X_test = weekday_sessions_test[['hour']]  # A single column data frame\n",
    "weekday_y_test = weekday_sessions_test['active_sessions']  # A series\n",
    "\n",
    "#preprocessor and model same as before\n",
    "weekday_sessions_tuned = GridSearchCV(sessions_pipe, param_grid, cv=5, n_jobs=-1, scoring='neg_root_mean_squared_error')\n",
    "weekday_sessions_results = pd.DataFrame(sessions_tuned.fit(weekday_X_train, weekday_y_train).cv_results_) \n",
    "weekday_sessions_tuned.fit(\n",
    "    weekday_sessions_train[['hour']],  # A single-column data frame\n",
    "    weekday_sessions_train['active_sessions'])  # A series\n",
    "\n",
    "weekday_sessions_prediction = weekday_sessions_tuned.predict(weekday_X_test)\n",
    "weekday_sessions_preds = weekday_sessions_train.assign(\n",
    "    predictions = weekday_sessions_tuned.predict(weekday_sessions_train[['hour']])\n",
    ")\n",
    "weekday_sessions_preds"
   ]
  },
  {
   "cell_type": "code",
   "execution_count": null,
   "id": "8dbeddf3-a4e0-42b0-bf31-b2289a5f3f6c",
   "metadata": {},
   "outputs": [],
   "source": [
    "weekday_best_RMSPE = -weekday_sessions_tuned.best_score_\n",
    "weekday_best_RMSPE"
   ]
  },
  {
   "cell_type": "code",
   "execution_count": null,
   "id": "41fe7d18-1d21-434f-8549-22d8531190a7",
   "metadata": {},
   "outputs": [],
   "source": [
    "#weekends\n",
    "weekend_sessions_train, weekend_sessions_test = train_test_split(\n",
    "    weekend_sessions,\n",
    "    test_size=0.25,\n",
    "    random_state=2000,  # Do not change the random_state\n",
    ")\n",
    "weekend_X_train = weekend_sessions_train[['hour']]  # A single column data frame\n",
    "weekend_y_train = weekend_sessions_train['active_sessions']  # A series\n",
    "\n",
    "weekend_X_test = weekend_sessions_test[['hour']]  # A single column data frame\n",
    "weekend_y_test = weekend_sessions_test['active_sessions']  # A series\n",
    "\n",
    "#preprocessor and model same as before\n",
    "weekend_sessions_tuned = GridSearchCV(sessions_pipe, param_grid, cv=5, n_jobs=-1, scoring='neg_root_mean_squared_error')\n",
    "weekend_sessions_results = pd.DataFrame(sessions_tuned.fit(weekend_X_train, weekend_y_train).cv_results_) \n",
    "weekend_sessions_tuned.fit(\n",
    "    weekend_sessions_train[['hour']],  # A single-column data frame\n",
    "    weekend_sessions_train['active_sessions'])  # A series\n",
    "\n",
    "weekend_sessions_prediction = weekend_sessions_tuned.predict(weekend_X_test)\n",
    "weekend_sessions_preds = weekend_sessions_train.assign(\n",
    "    predictions = weekend_sessions_tuned.predict(weekend_sessions_train[['hour']])\n",
    ")\n",
    "weekend_sessions_preds"
   ]
  },
  {
   "cell_type": "code",
   "execution_count": null,
   "id": "ed548123-dd90-4960-a7df-8ab7a0f63c03",
   "metadata": {},
   "outputs": [],
   "source": [
    "weekend_best_RMSPE = -weekend_sessions_tuned.best_score_\n",
    "weekend_best_RMSPE"
   ]
  },
  {
   "cell_type": "markdown",
   "id": "5cab90a2-44cd-46ac-a218-1f5555da80ae",
   "metadata": {},
   "source": [
    "These RMSPE are okay because we are working with units of individual licenses."
   ]
  },
  {
   "cell_type": "code",
   "execution_count": null,
   "id": "d85dc2cb-2308-485a-9c00-74795d4812d5",
   "metadata": {},
   "outputs": [],
   "source": [
    "#combining the weekday and weekend predictions for easy comparisons \n",
    "dayofweek_preds = pd.concat([weekday_sessions_preds , weekend_sessions_preds])\n",
    "dayofweek_preds"
   ]
  },
  {
   "cell_type": "markdown",
   "id": "f54417db-bacf-489c-a56b-3ec51ee5af5c",
   "metadata": {},
   "source": [
    "## Plots visualizing our results:"
   ]
  },
  {
   "cell_type": "code",
   "execution_count": null,
   "id": "413a4bbb-d8da-4d40-8924-0832a92494f5",
   "metadata": {},
   "outputs": [],
   "source": [
    "max_sessions_plot = alt.Chart(concurrent_sessions, title = 'Maximum Concurrent Sessions by Day of Week').mark_bar().encode(\n",
    "    x = alt.X('day_of_week', sort = ['Sunday', 'Monday', 'Tuesday', 'Wednesday', 'Thursday', 'Friday', 'Saturday'], axis=alt.Axis(labelAngle=-45))\n",
    "    .title(\"Day of Week\"),\n",
    "    y = alt.Y ('max(active_sessions)').title('Maximum Active Sessions Recorded')\n",
    ")\n",
    "max_sessions_plot"
   ]
  },
  {
   "cell_type": "markdown",
   "id": "a7b5c47d-a592-4da3-a76a-9590386a526f",
   "metadata": {},
   "source": [
    "This plot tells us the maximum number of concurrent sessions that has occured, by day of the week. From this plot, we know that plaicraft should have seven licenses to account for the absolute maximum."
   ]
  },
  {
   "cell_type": "code",
   "execution_count": null,
   "id": "c41b892d-296a-4e70-81d9-d37fd1a76f73",
   "metadata": {},
   "outputs": [],
   "source": [
    "sessions_data_plot = alt.Chart(sessions_preds).mark_point(opacity = 0.4, filled = True).encode(\n",
    "    x = alt.X('hour').title('Hour of Day'),\n",
    "    y = alt.Y('active_sessions').title('Active Sessions'),\n",
    "    size = 'count():Q'\n",
    ")\n",
    "\n",
    "sessions_pred_line = alt.Chart(sessions_preds).mark_line(color = 'black').encode(\n",
    "    x = 'hour', y='predictions')\n",
    "\n",
    "sessions_plot = alt.layer(sessions_data_plot, sessions_pred_line).properties(width = 600, height = 200)\n",
    "sessions_plot"
   ]
  },
  {
   "cell_type": "markdown",
   "id": "badf4729-27e0-4a05-be67-3a088fbf8d58",
   "metadata": {},
   "source": [
    "This plot tells us about player activity throughout the day. It seems like higher numbers of active players occur during the day, and is the highest around evening time. "
   ]
  },
  {
   "cell_type": "code",
   "execution_count": null,
   "id": "ea7ebfa6-fd1c-4b17-9126-534fb324b450",
   "metadata": {},
   "outputs": [],
   "source": [
    "dayofweek_plot = alt.Chart(dayofweek_preds).mark_point(opacity = 0.4, filled = True).encode(\n",
    "    x = alt.X('hour').title('Hour of Day'),\n",
    "    y = alt.Y('active_sessions').title('Active Sessions'),\n",
    "    size = 'count():Q'\n",
    ")\n",
    "\n",
    "dayofweek_pred_line = alt.Chart(dayofweek_preds).mark_line(color = 'black').encode(\n",
    "    x = 'hour', y='predictions')\n",
    "\n",
    "dayofweek_sessions_plot = alt.layer(dayofweek_plot, dayofweek_pred_line).properties(width = 600, height = 100).facet(facet=alt.Facet('day_or_end', title = 'Active Sesssions by Hour for Weekdays and Weekends'),columns = 1)\n",
    "dayofweek_sessions_plot"
   ]
  },
  {
   "cell_type": "markdown",
   "id": "c8b8831c-e468-410a-9ff2-7d0044fd7e4c",
   "metadata": {},
   "source": [
    "These visualizations show us that compared to weekdays, there are more people playing during weekends, and their activity is more spread throughout the day. However, we need to account for the fact that there are five weekday days and only two weekend days, so let's look at the average active sessions."
   ]
  },
  {
   "cell_type": "code",
   "execution_count": null,
   "id": "47a05f2a-91fc-49a0-8d7b-dcb89886d816",
   "metadata": {},
   "outputs": [],
   "source": [
    "avg_sessions_plot = alt.Chart(dayofweek_preds, title = 'Average Active Sessions for Weekdays and Weekends').mark_bar(opacity = 0.8).encode(\n",
    "    x = alt.X('hour').title('Hour of Day'),\n",
    "    y = alt.Y('mean(active_sessions)').title('Average Active Sessions').stack(None),\n",
    "    color = alt.Color('day_or_end', title='Weekday or Weekend').scale(scheme=\"set1\")\n",
    ")\n",
    "avg_sessions_plot"
   ]
  },
  {
   "cell_type": "code",
   "execution_count": null,
   "id": "684059f6-9fa2-4d34-8e4c-90507a13b311",
   "metadata": {},
   "outputs": [],
   "source": [
    "pred_avg_sessions_plot = alt.Chart(dayofweek_preds, title = 'Predicted Average Active Sessions for Weekdays and Weekends').mark_bar(opacity = 0.8).encode(\n",
    "    x = alt.X('hour').title('Hour of Day'),\n",
    "    y = alt.Y('mean(predictions)').title('Predicted Average Active Sessions').stack(None),\n",
    "    color = alt.Color('day_or_end', title='Weekday or Weekend').scale(scheme=\"set1\")\n",
    ")\n",
    "pred_avg_sessions_plot"
   ]
  },
  {
   "cell_type": "markdown",
   "id": "56a690b9-c38b-4c7f-a442-b9737d08f515",
   "metadata": {},
   "source": [
    "This helps us conclude that there are indeed more active sessions on weekends. More sessions take place throughout the day on weekends, while more sessions during the evenings take place on weekdays. "
   ]
  },
  {
   "cell_type": "code",
   "execution_count": null,
   "id": "ce6b4493-e80b-4809-986f-7573d6dc6e50",
   "metadata": {},
   "outputs": [],
   "source": []
  }
 ],
 "metadata": {
  "kernelspec": {
   "display_name": "Python 3 (ipykernel)",
   "language": "python",
   "name": "python3"
  },
  "language_info": {
   "codemirror_mode": {
    "name": "ipython",
    "version": 3
   },
   "file_extension": ".py",
   "mimetype": "text/x-python",
   "name": "python",
   "nbconvert_exporter": "python",
   "pygments_lexer": "ipython3",
   "version": "3.11.9"
  }
 },
 "nbformat": 4,
 "nbformat_minor": 5
}
